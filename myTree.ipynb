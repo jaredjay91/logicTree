{
 "cells": [
  {
   "cell_type": "markdown",
   "id": "ddb81fc9",
   "metadata": {},
   "source": [
    "This document will contain the tree of my knowledge."
   ]
  },
  {
   "cell_type": "code",
   "execution_count": 1,
   "id": "a0fe4a9f",
   "metadata": {},
   "outputs": [],
   "source": [
    "from LogicTree import *"
   ]
  },
  {
   "cell_type": "markdown",
   "id": "e1129ccd",
   "metadata": {},
   "source": [
    "## Existence"
   ]
  },
  {
   "cell_type": "code",
   "execution_count": null,
   "id": "615d6667",
   "metadata": {},
   "outputs": [],
   "source": [
    "definitions = [\n",
    "            Definition(\"Exists physically\", [\"exists physically\"]),]\n",
    "premises = [premise1]\n",
    "\n",
    "existenceTree = LogicTree(definitions, premises)"
   ]
  }
 ],
 "metadata": {
  "kernelspec": {
   "display_name": "Python 3 (ipykernel)",
   "language": "python",
   "name": "python3"
  },
  "language_info": {
   "codemirror_mode": {
    "name": "ipython",
    "version": 3
   },
   "file_extension": ".py",
   "mimetype": "text/x-python",
   "name": "python",
   "nbconvert_exporter": "python",
   "pygments_lexer": "ipython3",
   "version": "3.10.5"
  }
 },
 "nbformat": 4,
 "nbformat_minor": 5
}
