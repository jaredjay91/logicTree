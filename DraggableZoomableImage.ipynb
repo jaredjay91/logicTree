{
 "cells": [
  {
   "cell_type": "code",
   "execution_count": 1,
   "id": "946d30b6",
   "metadata": {},
   "outputs": [],
   "source": [
    "import tkinter as tk\n",
    "from PIL import Image, ImageTk\n",
    "\n",
    "class DraggableZoomableImage:\n",
    "    def __init__(self, master, image_path):\n",
    "        self.master = master\n",
    "        self.image = Image.open(image_path)\n",
    "        self.photo = ImageTk.PhotoImage(self.image)\n",
    "        self.zoom_factor = 1.0\n",
    "\n",
    "        self.image = Image.open(image_path)\n",
    "        self.photo = tk.PhotoImage(file=image_path)\n",
    "        self.photo.img = self.photo\n",
    " \n",
    "        self.canvas = tk.Canvas()\n",
    "        self.canvas.pack()\n",
    "        self.canvas.create_image(0, 0, anchor=\"nw\", image=self.photo)\n",
    "\n",
    "        self.canvas.bind(\"<ButtonPress-1>\", self.on_press)\n",
    "        self.canvas.bind(\"<B1-Motion>\", self.on_drag)\n",
    "        self.canvas.bind(\"<MouseWheel>\", self.on_zoom)\n",
    "\n",
    "    def on_press(self, event):\n",
    "        self.x = event.x\n",
    "        self.y = event.y\n",
    "\n",
    "    def on_drag(self, event):\n",
    "        dx = event.x - self.x\n",
    "        dy = event.y - self.y\n",
    "        self.canvas.scan_dragto(dx, dy, gain=1)\n",
    "\n",
    "    def on_zoom(self, event):\n",
    "        if event.delta > 0:\n",
    "            self.zoom_factor *= 1.1\n",
    "        else:\n",
    "            self.zoom_factor /= 1.1\n",
    "\n",
    "        if self.zoom_factor < 1:\n",
    "            self.zoom_factor = 1\n",
    "\n",
    "        self.update_image()\n",
    "\n",
    "    def update_image(self):\n",
    "        width = int(self.image.width * self.zoom_factor)\n",
    "        height = int(self.image.height * self.zoom_factor)\n",
    "        self.photo = ImageTk.PhotoImage(self.image.resize((width, height)))\n",
    "        self.canvas.itemconfig(self.canvas.find_all()[0], image=self.photo)"
   ]
  },
  {
   "cell_type": "code",
   "execution_count": 2,
   "id": "3884505c",
   "metadata": {},
   "outputs": [],
   "source": [
    "root = tk.Tk()\n",
    "app = DraggableZoomableImage(root, \"logicTreeImage.PNG\")\n",
    "root.mainloop()"
   ]
  },
  {
   "cell_type": "code",
   "execution_count": null,
   "id": "48a3c72c",
   "metadata": {},
   "outputs": [],
   "source": []
  }
 ],
 "metadata": {
  "kernelspec": {
   "display_name": "Python 3 (ipykernel)",
   "language": "python",
   "name": "python3"
  },
  "language_info": {
   "codemirror_mode": {
    "name": "ipython",
    "version": 3
   },
   "file_extension": ".py",
   "mimetype": "text/x-python",
   "name": "python",
   "nbconvert_exporter": "python",
   "pygments_lexer": "ipython3",
   "version": "3.10.5"
  }
 },
 "nbformat": 4,
 "nbformat_minor": 5
}
