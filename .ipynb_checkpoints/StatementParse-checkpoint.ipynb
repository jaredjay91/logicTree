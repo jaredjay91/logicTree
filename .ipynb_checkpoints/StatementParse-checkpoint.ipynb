{
 "cells": [
  {
   "cell_type": "code",
   "execution_count": 4,
   "id": "0b429c37",
   "metadata": {},
   "outputs": [
    {
     "name": "stdout",
     "output_type": "stream",
     "text": [
      "Tokenization\n",
      "['A', 'living', 'thing', 'is', 'highly', 'organized', ',', 'has', 'the', 'ability', 'to', 'acquire', 'materials', 'and', 'energy', ',', 'responds', 'to', 'its', 'environment', ',', 'reproduces', ',', 'and', 'adapts']\n",
      "\n",
      "Lemmatization\n",
      "[('A', 'DT'), ('living', 'VBG'), ('thing', 'NN'), ('is', 'VBZ'), ('highly', 'RB'), ('organized', 'VBN'), (',', ','), ('has', 'VBZ'), ('the', 'DT'), ('ability', 'NN'), ('to', 'TO'), ('acquire', 'VB'), ('materials', 'NNS'), ('and', 'CC'), ('energy', 'NN'), (',', ','), ('responds', 'VBZ'), ('to', 'IN'), ('its', 'PRP$'), ('environment', 'NN'), (',', ','), ('reproduces', 'VBZ'), (',', ','), ('and', 'CC'), ('adapts', 'NNS')]\n",
      "\n",
      "Chunking\n",
      "(S\n",
      "  A/DT\n",
      "  living/VBG\n",
      "  (NP thing/NN)\n",
      "  is/VBZ\n",
      "  highly/RB\n",
      "  organized/VBN\n",
      "  ,/,\n",
      "  has/VBZ\n",
      "  (NP the/DT ability/NN)\n",
      "  to/TO\n",
      "  acquire/VB\n",
      "  materials/NNS\n",
      "  and/CC\n",
      "  (NP energy/NN)\n",
      "  ,/,\n",
      "  responds/VBZ\n",
      "  to/IN\n",
      "  its/PRP$\n",
      "  (NP environment/NN)\n",
      "  ,/,\n",
      "  reproduces/VBZ\n",
      "  ,/,\n",
      "  and/CC\n",
      "  adapts/NNS)\n",
      "\n"
     ]
    }
   ],
   "source": [
    "import os\n",
    "java_path = \"C:/Program Files (x86)/Java/jre1.8.0_333/bin/java.exe\"\n",
    "os.environ['JAVAHOME'] = java_path\n",
    "\n",
    "from nltk.tag.stanford import StanfordPOSTagger\n",
    "_model_filename = r'C:/Users/jared/Downloads/stanford-postagger-full-2020-11-17/models/english-bidirectional-distsim.tagger'\n",
    "_path_to_jar = r'C:/Users/jared/Downloads/stanford-postagger-full-2020-11-17/stanford-postagger.jar'\n",
    "\n",
    "import nltk, string\n",
    "\n",
    "#import urllib.request\n",
    "#import zipfile\n",
    "#urllib.request.urlretrieve(r'http://nlp.stanford.edu/software/stanford-tagger-4.2.0.zip', r'C:/Users/jared/Downloads/stanford-tagger.zip')\n",
    "#zfile = zipfile.ZipFile(r'C:/Users/jared/Downloads/stanford-tagger.zip')\n",
    "#zfile.extractall(r'C:/Users/jared/Downloads/')\n",
    "\n",
    "# Initialization\n",
    "definition1 = \"A living thing is highly organized, has the ability to acquire materials and energy, responds to its environment, reproduces, and adapts\"\n",
    "\n",
    "# Tokenization\n",
    "tokens = nltk.word_tokenize(definition1)\n",
    "# remove punctuation\n",
    "#tokens = [word.replace(\"-\",\" \") for word in tokens if word not in string.punctuation]\n",
    "print(\"Tokenization\")\n",
    "print(tokens)\n",
    "print()\n",
    "\n",
    "# Lemmatization and Parts Of Speech\n",
    "#pos_tagged = nltk.pos_tag(tokens)\n",
    "st = StanfordPOSTagger(model_filename=_model_filename, path_to_jar=_path_to_jar)\n",
    "pos_tagged = st.tag(nltk.word_tokenize(definition1))\n",
    "print(\"Lemmatization\")\n",
    "print(pos_tagged)\n",
    "print()\n",
    "\n",
    "# Chunking and/or Chinking\n",
    "grammar = r\"\"\"\n",
    "  NP: {<DT|PP\\$>?<JJ>*<NN>}   # chunk determiner/possessive, adjectives and nouns\n",
    "      {<NNP>+}                # chunk sequences of proper nouns\n",
    "\"\"\"\n",
    "cp = nltk.RegexpParser(grammar)\n",
    "sentence = pos_tagged\n",
    "print(\"Chunking\")\n",
    "print(cp.parse(sentence))\n",
    "print()"
   ]
  }
 ],
 "metadata": {
  "kernelspec": {
   "display_name": "Python 3 (ipykernel)",
   "language": "python",
   "name": "python3"
  },
  "language_info": {
   "codemirror_mode": {
    "name": "ipython",
    "version": 3
   },
   "file_extension": ".py",
   "mimetype": "text/x-python",
   "name": "python",
   "nbconvert_exporter": "python",
   "pygments_lexer": "ipython3",
   "version": "3.10.5"
  }
 },
 "nbformat": 4,
 "nbformat_minor": 5
}
