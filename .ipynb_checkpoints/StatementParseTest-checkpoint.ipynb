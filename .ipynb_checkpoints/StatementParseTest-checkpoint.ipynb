{
 "cells": [
  {
   "cell_type": "markdown",
   "id": "4fbb3f11",
   "metadata": {},
   "source": [
    "This code needs to take a statement and identify what it is saying."
   ]
  },
  {
   "cell_type": "code",
   "execution_count": 2,
   "id": "6e32b72c",
   "metadata": {},
   "outputs": [],
   "source": [
    "definition1 = \"A living thing is highly organized, has the ability to acquire materials and energy, responds to its environment, reproduces, and adapts\"\n",
    "definition2 = \"Abortion is willfully terminating a human fetus or embryo\"\n",
    "definition3 = \"To kill is to willfully cause a living thing to stop living\"\n",
    "definition4 = \"A living human is a living thing that has a complete human genome in each of its cells\"\n",
    "definition5 = \"Innocent means one has not committed any crimes\"\n",
    "premise1 = \"A human fetus or embryo is highly organized, has the ability to acquire materials and energy, responds to its environment, reproduces, and adapts.\"\n",
    "premise2 = \"A human fetus or embryo has not committed any crimes\"\n",
    "premise3 = \"A human fetus or embryo has a complete human genome in each of its cells\"\n",
    "premise4 = \"It should be illegal to kill innocent humans.\"\n",
    "statement1 = \"A human fetus or embryo is a living thing.\"\n",
    "statement2 = \"A human fetus or embryo is a living thing and has a complete human genome in each of its cells.\"\n",
    "statement3 = \"A human fetus or embryo is a living human.\"\n",
    "statement4 = \"A human fetus or embryo is innocent.\"\n",
    "statement5 = \"A human fetus or embryo is an innocent living human.\"\n",
    "statement6 = \"Abortion willfully causes a human fetus or embryo to stop living.\"\n",
    "statement7 = \"Abortion kills a human fetus or embryo.\"\n",
    "statement8 = \"Abortion kills an innocent living human.\"\n",
    "statement9 = \"Abortion should be illegal.\"\n"
   ]
  },
  {
   "cell_type": "code",
   "execution_count": 5,
   "id": "0dc47490",
   "metadata": {},
   "outputs": [
    {
     "name": "stderr",
     "output_type": "stream",
     "text": [
      "[nltk_data] Downloading package punkt to\n",
      "[nltk_data]     C:\\Users\\jared\\AppData\\Roaming\\nltk_data...\n",
      "[nltk_data]   Unzipping tokenizers\\punkt.zip.\n"
     ]
    }
   ],
   "source": [
    "import nltk, string\n",
    "#nltk.download('punkt')\n",
    "text = \"Listen, strange women lyin' in ponds distributin' swords is no basis for a system of government. Supreme executive power derives from a mandate from the masses, not from some farcical aquatic ceremony.\"\n",
    "\n",
    "tokens = nltk.word_tokenize(text)\n",
    "\n",
    "# remove punctuation\n",
    "tokens = [word.replace(\"-\",\" \") for word in tokens if word not in string.punctuation]"
   ]
  },
  {
   "cell_type": "code",
   "execution_count": 10,
   "id": "5dbc284d",
   "metadata": {},
   "outputs": [
    {
     "data": {
      "text/plain": [
       "['A',\n",
       " 'living',\n",
       " 'thing',\n",
       " 'is',\n",
       " 'highly',\n",
       " 'organized',\n",
       " 'has',\n",
       " 'the',\n",
       " 'ability',\n",
       " 'to',\n",
       " 'acquire',\n",
       " 'materials',\n",
       " 'and',\n",
       " 'energy',\n",
       " 'responds',\n",
       " 'to',\n",
       " 'its',\n",
       " 'environment',\n",
       " 'reproduces',\n",
       " 'and',\n",
       " 'adapts']"
      ]
     },
     "execution_count": 10,
     "metadata": {},
     "output_type": "execute_result"
    }
   ],
   "source": [
    "tokens = nltk.word_tokenize(definition1)\n",
    "# remove punctuation\n",
    "tokens = [word.replace(\"-\",\" \") for word in tokens if word not in string.punctuation]\n",
    "tokens"
   ]
  },
  {
   "cell_type": "code",
   "execution_count": 11,
   "id": "8713177e",
   "metadata": {},
   "outputs": [
    {
     "name": "stdout",
     "output_type": "stream",
     "text": [
      "Snowball stemmed words:  ['a', 'live', 'thing', 'is', 'high', 'organ', 'has', 'the', 'abil', 'to', 'acquir', 'materi', 'and', 'energi', 'respond', 'to', 'it', 'environ', 'reproduc', 'and', 'adapt']\n"
     ]
    }
   ],
   "source": [
    "from nltk.stem import SnowballStemmer\n",
    "stemmer_ss = SnowballStemmer(\"english\")   \n",
    "#an instance of Snowball Stemmer\n",
    "stemmed_words_ss = [stemmer_ss.stem(word) for word in tokens]\n",
    "print(\"Snowball stemmed words: \", stemmed_words_ss)"
   ]
  },
  {
   "cell_type": "code",
   "execution_count": 12,
   "id": "29694003",
   "metadata": {},
   "outputs": [
    {
     "name": "stderr",
     "output_type": "stream",
     "text": [
      "[nltk_data] Downloading package wordnet to\n",
      "[nltk_data]     C:\\Users\\jared\\AppData\\Roaming\\nltk_data...\n",
      "[nltk_data]   Unzipping corpora\\wordnet.zip.\n"
     ]
    },
    {
     "data": {
      "text/plain": [
       "True"
      ]
     },
     "execution_count": 12,
     "metadata": {},
     "output_type": "execute_result"
    }
   ],
   "source": [
    "from nltk.stem import WordNetLemmatizer\n",
    "#nltk.download('wordnet') \n",
    "# Since Lemmatization is based on WordNet's built-in morph function."
   ]
  },
  {
   "cell_type": "code",
   "execution_count": 14,
   "id": "feb3db54",
   "metadata": {},
   "outputs": [
    {
     "name": "stderr",
     "output_type": "stream",
     "text": [
      "[nltk_data] Downloading package omw-1.4 to\n",
      "[nltk_data]     C:\\Users\\jared\\AppData\\Roaming\\nltk_data...\n",
      "[nltk_data]   Unzipping corpora\\omw-1.4.zip.\n"
     ]
    },
    {
     "name": "stdout",
     "output_type": "stream",
     "text": [
      "The lemmatized words:  ['A', 'living', 'thing', 'is', 'highly', 'organized', 'ha', 'the', 'ability', 'to', 'acquire', 'material', 'and', 'energy', 'responds', 'to', 'it', 'environment', 'reproduces', 'and', 'adapts']\n",
      "The lemmatized words using a POS tag:  ['A', 'live', 'thing', 'be', 'highly', 'organize', 'have', 'the', 'ability', 'to', 'acquire', 'materials', 'and', 'energy', 'respond', 'to', 'its', 'environment', 'reproduce', 'and', 'adapt']\n"
     ]
    }
   ],
   "source": [
    "#nltk.download('omw-1.4')\n",
    "lemmatizer = WordNetLemmatizer()   \n",
    "#an instance of Word Net Lemmatizer\n",
    "lemmatized_words = [lemmatizer.lemmatize(word) for word in tokens] \n",
    "print(\"The lemmatized words: \", lemmatized_words) \n",
    "#prints the lemmatized words\n",
    "lemmatized_words_pos = [lemmatizer.lemmatize(word, pos = \"v\") for word in tokens]\n",
    "print(\"The lemmatized words using a POS tag: \", lemmatized_words_pos) \n",
    "#prints POS tagged lemmatized words"
   ]
  },
  {
   "cell_type": "markdown",
   "id": "9cf1d389",
   "metadata": {},
   "source": [
    "lemmatized_words_pos has the most useful result for my purposes."
   ]
  },
  {
   "cell_type": "code",
   "execution_count": 21,
   "id": "fc59bdc9",
   "metadata": {},
   "outputs": [
    {
     "name": "stdout",
     "output_type": "stream",
     "text": [
      "[('They', 'PRP'), ('refuse', 'VBP'), ('to', 'TO'), ('permit', 'VB'), ('us', 'PRP'), ('to', 'TO'), ('obtain', 'VB'), ('the', 'DT'), ('refuse', 'NN'), ('permit', 'NN')]\n",
      "[('refuse', 'NN'), ('permit', 'NN')]\n"
     ]
    }
   ],
   "source": [
    "#nltk.download('averaged_perceptron_tagger')\n",
    "text = nltk.word_tokenize(\"They refuse to permit us to obtain the refuse permit\")\n",
    "pos_tagged = nltk.pos_tag(text)\n",
    "print(pos_tagged)\n",
    "nouns = list(filter(lambda x:x[1]=='NN',pos_tagged))\n",
    "print(nouns)"
   ]
  },
  {
   "cell_type": "code",
   "execution_count": 23,
   "id": "96ca7c80",
   "metadata": {},
   "outputs": [
    {
     "name": "stdout",
     "output_type": "stream",
     "text": [
      "[('A', 'DT'), ('living', 'JJ'), ('thing', 'NN'), ('is', 'VBZ'), ('highly', 'RB'), ('organized', 'VBN'), ('has', 'VBZ'), ('the', 'DT'), ('ability', 'NN'), ('to', 'TO'), ('acquire', 'VB'), ('materials', 'NNS'), ('and', 'CC'), ('energy', 'NN'), ('responds', 'NNS'), ('to', 'TO'), ('its', 'PRP$'), ('environment', 'NN'), ('reproduces', 'NNS'), ('and', 'CC'), ('adapts', 'NNS')]\n",
      "[('thing', 'NN'), ('ability', 'NN'), ('energy', 'NN'), ('environment', 'NN')]\n"
     ]
    }
   ],
   "source": [
    "pos_tagged = nltk.pos_tag(tokens)\n",
    "print(pos_tagged)\n",
    "nouns = list(filter(lambda x:x[1]=='NN',pos_tagged))\n",
    "print(nouns)"
   ]
  },
  {
   "cell_type": "code",
   "execution_count": 26,
   "id": "96fdca5f",
   "metadata": {},
   "outputs": [
    {
     "name": "stdout",
     "output_type": "stream",
     "text": [
      "(S\n",
      "  (NP Rapunzel/NNP)\n",
      "  let/VBD\n",
      "  down/RP\n",
      "  (NP her/PP$ long/JJ golden/JJ hair/NN))\n"
     ]
    }
   ],
   "source": [
    "grammar = r\"\"\"\n",
    "  NP: {<DT|PP\\$>?<JJ>*<NN>}   # chunk determiner/possessive, adjectives and nouns\n",
    "      {<NNP>+}                # chunk sequences of proper nouns\n",
    "\"\"\"\n",
    "cp = nltk.RegexpParser(grammar)\n",
    "sentence = [(\"Rapunzel\", \"NNP\"), (\"let\", \"VBD\"), (\"down\", \"RP\"),\n",
    "                 (\"her\", \"PP$\"), (\"long\", \"JJ\"), (\"golden\", \"JJ\"), (\"hair\", \"NN\")]\n",
    "print(cp.parse(sentence))"
   ]
  },
  {
   "cell_type": "code",
   "execution_count": 30,
   "id": "25c106d0",
   "metadata": {},
   "outputs": [
    {
     "name": "stdout",
     "output_type": "stream",
     "text": [
      "Tokenization\n",
      "['A', 'living', 'thing', 'is', 'highly', 'organized', ',', 'has', 'the', 'ability', 'to', 'acquire', 'materials', 'and', 'energy', ',', 'responds', 'to', 'its', 'environment', ',', 'reproduces', ',', 'and', 'adapts']\n",
      "\n",
      "Lemmatization\n",
      "[('A', 'DT'), ('living', 'JJ'), ('thing', 'NN'), ('is', 'VBZ'), ('highly', 'RB'), ('organized', 'VBN'), (',', ','), ('has', 'VBZ'), ('the', 'DT'), ('ability', 'NN'), ('to', 'TO'), ('acquire', 'VB'), ('materials', 'NNS'), ('and', 'CC'), ('energy', 'NN'), (',', ','), ('responds', 'VBZ'), ('to', 'TO'), ('its', 'PRP$'), ('environment', 'NN'), (',', ','), ('reproduces', 'NNS'), (',', ','), ('and', 'CC'), ('adapts', 'NNS')]\n",
      "\n",
      "Chunking\n",
      "(S\n",
      "  (NP A/DT living/JJ thing/NN)\n",
      "  is/VBZ\n",
      "  highly/RB\n",
      "  organized/VBN\n",
      "  ,/,\n",
      "  has/VBZ\n",
      "  (NP the/DT ability/NN)\n",
      "  to/TO\n",
      "  acquire/VB\n",
      "  materials/NNS\n",
      "  and/CC\n",
      "  (NP energy/NN)\n",
      "  ,/,\n",
      "  responds/VBZ\n",
      "  to/TO\n",
      "  its/PRP$\n",
      "  (NP environment/NN)\n",
      "  ,/,\n",
      "  reproduces/NNS\n",
      "  ,/,\n",
      "  and/CC\n",
      "  adapts/NNS)\n",
      "\n"
     ]
    }
   ],
   "source": [
    "# Initialization\n",
    "definition1 = \"A living thing is highly organized, has the ability to acquire materials and energy, responds to its environment, reproduces, and adapts\"\n",
    "\n",
    "# Tokenization\n",
    "tokens = nltk.word_tokenize(definition1)\n",
    "# remove punctuation\n",
    "#tokens = [word.replace(\"-\",\" \") for word in tokens if word not in string.punctuation]\n",
    "print(\"Tokenization\")\n",
    "print(tokens)\n",
    "print()\n",
    "\n",
    "# Lemmatization\n",
    "pos_tagged = nltk.pos_tag(tokens)\n",
    "#nouns = list(filter(lambda x:x[1]=='NN',pos_tagged))\n",
    "print(\"Lemmatization\")\n",
    "print(pos_tagged)\n",
    "print()\n",
    "\n",
    "# Chunking and/or Chinking\n",
    "grammar = r\"\"\"\n",
    "  NP: {<DT|PP\\$>?<JJ>*<NN>}   # chunk determiner/possessive, adjectives and nouns\n",
    "      {<NNP>+}                # chunk sequences of proper nouns\n",
    "\"\"\"\n",
    "cp = nltk.RegexpParser(grammar)\n",
    "sentence = pos_tagged\n",
    "print(\"Chunking\")\n",
    "print(cp.parse(sentence))\n",
    "print()"
   ]
  },
  {
   "cell_type": "markdown",
   "id": "b43a81bf",
   "metadata": {},
   "source": [
    "Apparently the Standford pos_tagger is better. This is how I got it to work:\n",
    "- I went to https://nlp.stanford.edu/software/tagger.shtml to download the stanford-tagger.\n",
    "- I installed java8 from here: https://www.java.com/en/download/manual.jsp before installing stanford-tagger.\n"
   ]
  },
  {
   "cell_type": "code",
   "execution_count": 31,
   "id": "c055170d",
   "metadata": {},
   "outputs": [
    {
     "ename": "ImportError",
     "evalue": "cannot import name 'POSTagger' from 'nltk.tag.stanford' (C:\\Users\\jared\\AppData\\Local\\Programs\\Python\\Python310\\lib\\site-packages\\nltk\\tag\\stanford.py)",
     "output_type": "error",
     "traceback": [
      "\u001b[1;31m---------------------------------------------------------------------------\u001b[0m",
      "\u001b[1;31mImportError\u001b[0m                               Traceback (most recent call last)",
      "Input \u001b[1;32mIn [31]\u001b[0m, in \u001b[0;36m<cell line: 3>\u001b[1;34m()\u001b[0m\n\u001b[0;32m      1\u001b[0m \u001b[38;5;28;01mfrom\u001b[39;00m \u001b[38;5;21;01mos\u001b[39;00m\u001b[38;5;21;01m.\u001b[39;00m\u001b[38;5;21;01mpath\u001b[39;00m \u001b[38;5;28;01mimport\u001b[39;00m expanduser\n\u001b[0;32m      2\u001b[0m home \u001b[38;5;241m=\u001b[39m expanduser(\u001b[38;5;124m\"\u001b[39m\u001b[38;5;124m~\u001b[39m\u001b[38;5;124m\"\u001b[39m)\n\u001b[1;32m----> 3\u001b[0m \u001b[38;5;28;01mfrom\u001b[39;00m \u001b[38;5;21;01mnltk\u001b[39;00m\u001b[38;5;21;01m.\u001b[39;00m\u001b[38;5;21;01mtag\u001b[39;00m\u001b[38;5;21;01m.\u001b[39;00m\u001b[38;5;21;01mstanford\u001b[39;00m \u001b[38;5;28;01mimport\u001b[39;00m POSTagger\n\u001b[0;32m      4\u001b[0m _path_to_model \u001b[38;5;241m=\u001b[39m \u001b[38;5;124m'\u001b[39m\u001b[38;5;124mC:/Users/jared/Downloads/stanford-tagger-4.2.0/stanford-postagger-full-2020-11-17/models/english-bidirectional-distsim.tagger\u001b[39m\u001b[38;5;124m'\u001b[39m\n\u001b[0;32m      5\u001b[0m _path_to_jar \u001b[38;5;241m=\u001b[39m \u001b[38;5;124m'\u001b[39m\u001b[38;5;124mC:/Users/jared/Downloads/stanford-tagger-4.2.0/stanford-postagger-full-2020-11-17/stanford-postagger.jar\u001b[39m\u001b[38;5;124m'\u001b[39m\n",
      "\u001b[1;31mImportError\u001b[0m: cannot import name 'POSTagger' from 'nltk.tag.stanford' (C:\\Users\\jared\\AppData\\Local\\Programs\\Python\\Python310\\lib\\site-packages\\nltk\\tag\\stanford.py)"
     ]
    }
   ],
   "source": [
    "from os.path import expanduser\n",
    "home = expanduser(\"~\")\n",
    "from nltk.tag.stanford import POSTagger\n",
    "_path_to_model = 'C:/Users/jared/Downloads/stanford-tagger-4.2.0/stanford-postagger-full-2020-11-17/models/english-bidirectional-distsim.tagger'\n",
    "_path_to_jar = 'C:/Users/jared/Downloads/stanford-tagger-4.2.0/stanford-postagger-full-2020-11-17/stanford-postagger.jar'\n",
    "st = POSTagger(path_to_model=_path_to_model, path_to_jar=_path_to_jar)\n",
    "text = \"The quick brown fox jumps over the lazy dog\"\n",
    "st.tag(text.split())"
   ]
  },
  {
   "cell_type": "code",
   "execution_count": 37,
   "id": "627eec91",
   "metadata": {},
   "outputs": [
    {
     "ename": "TypeError",
     "evalue": "StanfordTagger.__init__() got an unexpected keyword argument 'path_to_model'",
     "output_type": "error",
     "traceback": [
      "\u001b[1;31m---------------------------------------------------------------------------\u001b[0m",
      "\u001b[1;31mTypeError\u001b[0m                                 Traceback (most recent call last)",
      "Input \u001b[1;32mIn [37]\u001b[0m, in \u001b[0;36m<cell line: 4>\u001b[1;34m()\u001b[0m\n\u001b[0;32m      2\u001b[0m _path_to_model \u001b[38;5;241m=\u001b[39m \u001b[38;5;124m'\u001b[39m\u001b[38;5;124mC:/Users/jared/Downloads/stanford-tagger-4.2.0/stanford-postagger-full-2020-11-17/models/english-bidirectional-distsim.tagger\u001b[39m\u001b[38;5;124m'\u001b[39m\n\u001b[0;32m      3\u001b[0m _path_to_jar \u001b[38;5;241m=\u001b[39m \u001b[38;5;124m'\u001b[39m\u001b[38;5;124mC:/Users/jared/Downloads/stanford-tagger-4.2.0/stanford-postagger-full-2020-11-17/stanford-postagger.jar\u001b[39m\u001b[38;5;124m'\u001b[39m\n\u001b[1;32m----> 4\u001b[0m st \u001b[38;5;241m=\u001b[39m \u001b[43mStanfordPOSTagger\u001b[49m\u001b[43m(\u001b[49m\u001b[43mpath_to_model\u001b[49m\u001b[38;5;241;43m=\u001b[39;49m\u001b[43m_path_to_model\u001b[49m\u001b[43m,\u001b[49m\u001b[43m \u001b[49m\u001b[43mpath_to_jar\u001b[49m\u001b[38;5;241;43m=\u001b[39;49m\u001b[43m_path_to_jar\u001b[49m\u001b[43m)\u001b[49m\n\u001b[0;32m      5\u001b[0m text \u001b[38;5;241m=\u001b[39m \u001b[38;5;124m\"\u001b[39m\u001b[38;5;124mThe quick brown fox jumps over the lazy dog\u001b[39m\u001b[38;5;124m\"\u001b[39m\n\u001b[0;32m      6\u001b[0m st\u001b[38;5;241m.\u001b[39mtag(text\u001b[38;5;241m.\u001b[39msplit())\n",
      "File \u001b[1;32m~\\AppData\\Local\\Programs\\Python\\Python310\\lib\\site-packages\\nltk\\tag\\stanford.py:159\u001b[0m, in \u001b[0;36mStanfordPOSTagger.__init__\u001b[1;34m(self, *args, **kwargs)\u001b[0m\n\u001b[0;32m    158\u001b[0m \u001b[38;5;28;01mdef\u001b[39;00m \u001b[38;5;21m__init__\u001b[39m(\u001b[38;5;28mself\u001b[39m, \u001b[38;5;241m*\u001b[39margs, \u001b[38;5;241m*\u001b[39m\u001b[38;5;241m*\u001b[39mkwargs):\n\u001b[1;32m--> 159\u001b[0m     \u001b[38;5;28msuper\u001b[39m()\u001b[38;5;241m.\u001b[39m\u001b[38;5;21m__init__\u001b[39m(\u001b[38;5;241m*\u001b[39margs, \u001b[38;5;241m*\u001b[39m\u001b[38;5;241m*\u001b[39mkwargs)\n",
      "\u001b[1;31mTypeError\u001b[0m: StanfordTagger.__init__() got an unexpected keyword argument 'path_to_model'"
     ]
    }
   ],
   "source": [
    "from nltk.tag.stanford import StanfordPOSTagger\n",
    "_path_to_model = 'C:/Users/jared/Downloads/stanford-tagger-4.2.0/stanford-postagger-full-2020-11-17/models/english-bidirectional-distsim.tagger'\n",
    "_path_to_jar = 'C:/Users/jared/Downloads/stanford-tagger-4.2.0/stanford-postagger-full-2020-11-17/stanford-postagger.jar'\n",
    "st = StanfordPOSTagger(path_to_model=_path_to_model, path_to_jar=_path_to_jar)\n",
    "text = \"The quick brown fox jumps over the lazy dog\"\n",
    "st.tag(text.split())"
   ]
  },
  {
   "cell_type": "code",
   "execution_count": 41,
   "id": "92d54f87",
   "metadata": {},
   "outputs": [
    {
     "ename": "LookupError",
     "evalue": "\n\n===========================================================================\nNLTK was unable to find the java file!\nUse software specific configuration parameters or set the JAVAHOME environment variable.\n===========================================================================",
     "output_type": "error",
     "traceback": [
      "\u001b[1;31m---------------------------------------------------------------------------\u001b[0m",
      "\u001b[1;31mLookupError\u001b[0m                               Traceback (most recent call last)",
      "Input \u001b[1;32mIn [41]\u001b[0m, in \u001b[0;36m<cell line: 6>\u001b[1;34m()\u001b[0m\n\u001b[0;32m      4\u001b[0m \u001b[38;5;28;01mfrom\u001b[39;00m \u001b[38;5;21;01mnltk\u001b[39;00m\u001b[38;5;21;01m.\u001b[39;00m\u001b[38;5;21;01mtag\u001b[39;00m \u001b[38;5;28;01mimport\u001b[39;00m StanfordPOSTagger\n\u001b[0;32m      5\u001b[0m st \u001b[38;5;241m=\u001b[39m StanfordPOSTagger(_path_to_model, path_to_jar\u001b[38;5;241m=\u001b[39m_path_to_jar)\n\u001b[1;32m----> 6\u001b[0m \u001b[43mst\u001b[49m\u001b[38;5;241;43m.\u001b[39;49m\u001b[43mtag\u001b[49m\u001b[43m(\u001b[49m\u001b[38;5;124;43m'\u001b[39;49m\u001b[38;5;124;43mWhat is the airspeed of an unladen swallow ?\u001b[39;49m\u001b[38;5;124;43m'\u001b[39;49m\u001b[38;5;241;43m.\u001b[39;49m\u001b[43msplit\u001b[49m\u001b[43m(\u001b[49m\u001b[43m)\u001b[49m\u001b[43m)\u001b[49m\n",
      "File \u001b[1;32m~\\AppData\\Local\\Programs\\Python\\Python310\\lib\\site-packages\\nltk\\tag\\stanford.py:90\u001b[0m, in \u001b[0;36mStanfordTagger.tag\u001b[1;34m(self, tokens)\u001b[0m\n\u001b[0;32m     88\u001b[0m \u001b[38;5;28;01mdef\u001b[39;00m \u001b[38;5;21mtag\u001b[39m(\u001b[38;5;28mself\u001b[39m, tokens):\n\u001b[0;32m     89\u001b[0m     \u001b[38;5;66;03m# This function should return list of tuple rather than list of list\u001b[39;00m\n\u001b[1;32m---> 90\u001b[0m     \u001b[38;5;28;01mreturn\u001b[39;00m \u001b[38;5;28msum\u001b[39m(\u001b[38;5;28;43mself\u001b[39;49m\u001b[38;5;241;43m.\u001b[39;49m\u001b[43mtag_sents\u001b[49m\u001b[43m(\u001b[49m\u001b[43m[\u001b[49m\u001b[43mtokens\u001b[49m\u001b[43m]\u001b[49m\u001b[43m)\u001b[49m, [])\n",
      "File \u001b[1;32m~\\AppData\\Local\\Programs\\Python\\Python310\\lib\\site-packages\\nltk\\tag\\stanford.py:95\u001b[0m, in \u001b[0;36mStanfordTagger.tag_sents\u001b[1;34m(self, sentences)\u001b[0m\n\u001b[0;32m     93\u001b[0m encoding \u001b[38;5;241m=\u001b[39m \u001b[38;5;28mself\u001b[39m\u001b[38;5;241m.\u001b[39m_encoding\n\u001b[0;32m     94\u001b[0m default_options \u001b[38;5;241m=\u001b[39m \u001b[38;5;124m\"\u001b[39m\u001b[38;5;124m \u001b[39m\u001b[38;5;124m\"\u001b[39m\u001b[38;5;241m.\u001b[39mjoin(_java_options)\n\u001b[1;32m---> 95\u001b[0m \u001b[43mconfig_java\u001b[49m\u001b[43m(\u001b[49m\u001b[43moptions\u001b[49m\u001b[38;5;241;43m=\u001b[39;49m\u001b[38;5;28;43mself\u001b[39;49m\u001b[38;5;241;43m.\u001b[39;49m\u001b[43mjava_options\u001b[49m\u001b[43m,\u001b[49m\u001b[43m \u001b[49m\u001b[43mverbose\u001b[49m\u001b[38;5;241;43m=\u001b[39;49m\u001b[38;5;28;43;01mFalse\u001b[39;49;00m\u001b[43m)\u001b[49m\n\u001b[0;32m     97\u001b[0m \u001b[38;5;66;03m# Create a temporary input file\u001b[39;00m\n\u001b[0;32m     98\u001b[0m _input_fh, \u001b[38;5;28mself\u001b[39m\u001b[38;5;241m.\u001b[39m_input_file_path \u001b[38;5;241m=\u001b[39m tempfile\u001b[38;5;241m.\u001b[39mmkstemp(text\u001b[38;5;241m=\u001b[39m\u001b[38;5;28;01mTrue\u001b[39;00m)\n",
      "File \u001b[1;32m~\\AppData\\Local\\Programs\\Python\\Python310\\lib\\site-packages\\nltk\\internals.py:47\u001b[0m, in \u001b[0;36mconfig_java\u001b[1;34m(bin, options, verbose)\u001b[0m\n\u001b[0;32m     30\u001b[0m \u001b[38;5;124;03m\"\"\"\u001b[39;00m\n\u001b[0;32m     31\u001b[0m \u001b[38;5;124;03mConfigure nltk's java interface, by letting nltk know where it can\u001b[39;00m\n\u001b[0;32m     32\u001b[0m \u001b[38;5;124;03mfind the Java binary, and what extra options (if any) should be\u001b[39;00m\n\u001b[1;32m   (...)\u001b[0m\n\u001b[0;32m     44\u001b[0m \u001b[38;5;124;03m:type options: list(str)\u001b[39;00m\n\u001b[0;32m     45\u001b[0m \u001b[38;5;124;03m\"\"\"\u001b[39;00m\n\u001b[0;32m     46\u001b[0m \u001b[38;5;28;01mglobal\u001b[39;00m _java_bin, _java_options\n\u001b[1;32m---> 47\u001b[0m _java_bin \u001b[38;5;241m=\u001b[39m \u001b[43mfind_binary\u001b[49m\u001b[43m(\u001b[49m\n\u001b[0;32m     48\u001b[0m \u001b[43m    \u001b[49m\u001b[38;5;124;43m\"\u001b[39;49m\u001b[38;5;124;43mjava\u001b[39;49m\u001b[38;5;124;43m\"\u001b[39;49m\u001b[43m,\u001b[49m\n\u001b[0;32m     49\u001b[0m \u001b[43m    \u001b[49m\u001b[38;5;28;43mbin\u001b[39;49m\u001b[43m,\u001b[49m\n\u001b[0;32m     50\u001b[0m \u001b[43m    \u001b[49m\u001b[43menv_vars\u001b[49m\u001b[38;5;241;43m=\u001b[39;49m\u001b[43m[\u001b[49m\u001b[38;5;124;43m\"\u001b[39;49m\u001b[38;5;124;43mJAVAHOME\u001b[39;49m\u001b[38;5;124;43m\"\u001b[39;49m\u001b[43m,\u001b[49m\u001b[43m \u001b[49m\u001b[38;5;124;43m\"\u001b[39;49m\u001b[38;5;124;43mJAVA_HOME\u001b[39;49m\u001b[38;5;124;43m\"\u001b[39;49m\u001b[43m]\u001b[49m\u001b[43m,\u001b[49m\n\u001b[0;32m     51\u001b[0m \u001b[43m    \u001b[49m\u001b[43mverbose\u001b[49m\u001b[38;5;241;43m=\u001b[39;49m\u001b[43mverbose\u001b[49m\u001b[43m,\u001b[49m\n\u001b[0;32m     52\u001b[0m \u001b[43m    \u001b[49m\u001b[43mbinary_names\u001b[49m\u001b[38;5;241;43m=\u001b[39;49m\u001b[43m[\u001b[49m\u001b[38;5;124;43m\"\u001b[39;49m\u001b[38;5;124;43mjava.exe\u001b[39;49m\u001b[38;5;124;43m\"\u001b[39;49m\u001b[43m]\u001b[49m\u001b[43m,\u001b[49m\n\u001b[0;32m     53\u001b[0m \u001b[43m\u001b[49m\u001b[43m)\u001b[49m\n\u001b[0;32m     55\u001b[0m \u001b[38;5;28;01mif\u001b[39;00m options \u001b[38;5;129;01mis\u001b[39;00m \u001b[38;5;129;01mnot\u001b[39;00m \u001b[38;5;28;01mNone\u001b[39;00m:\n\u001b[0;32m     56\u001b[0m     \u001b[38;5;28;01mif\u001b[39;00m \u001b[38;5;28misinstance\u001b[39m(options, \u001b[38;5;28mstr\u001b[39m):\n",
      "File \u001b[1;32m~\\AppData\\Local\\Programs\\Python\\Python310\\lib\\site-packages\\nltk\\internals.py:690\u001b[0m, in \u001b[0;36mfind_binary\u001b[1;34m(name, path_to_bin, env_vars, searchpath, binary_names, url, verbose)\u001b[0m\n\u001b[0;32m    681\u001b[0m \u001b[38;5;28;01mdef\u001b[39;00m \u001b[38;5;21mfind_binary\u001b[39m(\n\u001b[0;32m    682\u001b[0m     name,\n\u001b[0;32m    683\u001b[0m     path_to_bin\u001b[38;5;241m=\u001b[39m\u001b[38;5;28;01mNone\u001b[39;00m,\n\u001b[1;32m   (...)\u001b[0m\n\u001b[0;32m    688\u001b[0m     verbose\u001b[38;5;241m=\u001b[39m\u001b[38;5;28;01mFalse\u001b[39;00m,\n\u001b[0;32m    689\u001b[0m ):\n\u001b[1;32m--> 690\u001b[0m     \u001b[38;5;28;01mreturn\u001b[39;00m \u001b[38;5;28;43mnext\u001b[39;49m\u001b[43m(\u001b[49m\n\u001b[0;32m    691\u001b[0m \u001b[43m        \u001b[49m\u001b[43mfind_binary_iter\u001b[49m\u001b[43m(\u001b[49m\n\u001b[0;32m    692\u001b[0m \u001b[43m            \u001b[49m\u001b[43mname\u001b[49m\u001b[43m,\u001b[49m\u001b[43m \u001b[49m\u001b[43mpath_to_bin\u001b[49m\u001b[43m,\u001b[49m\u001b[43m \u001b[49m\u001b[43menv_vars\u001b[49m\u001b[43m,\u001b[49m\u001b[43m \u001b[49m\u001b[43msearchpath\u001b[49m\u001b[43m,\u001b[49m\u001b[43m \u001b[49m\u001b[43mbinary_names\u001b[49m\u001b[43m,\u001b[49m\u001b[43m \u001b[49m\u001b[43murl\u001b[49m\u001b[43m,\u001b[49m\u001b[43m \u001b[49m\u001b[43mverbose\u001b[49m\n\u001b[0;32m    693\u001b[0m \u001b[43m        \u001b[49m\u001b[43m)\u001b[49m\n\u001b[0;32m    694\u001b[0m \u001b[43m    \u001b[49m\u001b[43m)\u001b[49m\n",
      "File \u001b[1;32m~\\AppData\\Local\\Programs\\Python\\Python310\\lib\\site-packages\\nltk\\internals.py:676\u001b[0m, in \u001b[0;36mfind_binary_iter\u001b[1;34m(name, path_to_bin, env_vars, searchpath, binary_names, url, verbose)\u001b[0m\n\u001b[0;32m    656\u001b[0m \u001b[38;5;28;01mdef\u001b[39;00m \u001b[38;5;21mfind_binary_iter\u001b[39m(\n\u001b[0;32m    657\u001b[0m     name,\n\u001b[0;32m    658\u001b[0m     path_to_bin\u001b[38;5;241m=\u001b[39m\u001b[38;5;28;01mNone\u001b[39;00m,\n\u001b[1;32m   (...)\u001b[0m\n\u001b[0;32m    663\u001b[0m     verbose\u001b[38;5;241m=\u001b[39m\u001b[38;5;28;01mFalse\u001b[39;00m,\n\u001b[0;32m    664\u001b[0m ):\n\u001b[0;32m    665\u001b[0m     \u001b[38;5;124;03m\"\"\"\u001b[39;00m\n\u001b[0;32m    666\u001b[0m \u001b[38;5;124;03m    Search for a file to be used by nltk.\u001b[39;00m\n\u001b[0;32m    667\u001b[0m \n\u001b[1;32m   (...)\u001b[0m\n\u001b[0;32m    674\u001b[0m \u001b[38;5;124;03m    :param verbose: Whether or not to print path when a file is found.\u001b[39;00m\n\u001b[0;32m    675\u001b[0m \u001b[38;5;124;03m    \"\"\"\u001b[39;00m\n\u001b[1;32m--> 676\u001b[0m     \u001b[38;5;28;01myield from\u001b[39;00m find_file_iter(\n\u001b[0;32m    677\u001b[0m         path_to_bin \u001b[38;5;129;01mor\u001b[39;00m name, env_vars, searchpath, binary_names, url, verbose\n\u001b[0;32m    678\u001b[0m     )\n",
      "File \u001b[1;32m~\\AppData\\Local\\Programs\\Python\\Python310\\lib\\site-packages\\nltk\\internals.py:635\u001b[0m, in \u001b[0;36mfind_file_iter\u001b[1;34m(filename, env_vars, searchpath, file_names, url, verbose, finding_dir)\u001b[0m\n\u001b[0;32m    633\u001b[0m     msg \u001b[38;5;241m+\u001b[39m\u001b[38;5;241m=\u001b[39m \u001b[38;5;124mf\u001b[39m\u001b[38;5;124m\"\u001b[39m\u001b[38;5;130;01m\\n\u001b[39;00m\u001b[38;5;130;01m\\n\u001b[39;00m\u001b[38;5;124m  For more information on \u001b[39m\u001b[38;5;132;01m{\u001b[39;00mfilename\u001b[38;5;132;01m}\u001b[39;00m\u001b[38;5;124m, see:\u001b[39m\u001b[38;5;130;01m\\n\u001b[39;00m\u001b[38;5;124m    <\u001b[39m\u001b[38;5;132;01m{\u001b[39;00murl\u001b[38;5;132;01m}\u001b[39;00m\u001b[38;5;124m>\u001b[39m\u001b[38;5;124m\"\u001b[39m\n\u001b[0;32m    634\u001b[0m div \u001b[38;5;241m=\u001b[39m \u001b[38;5;124m\"\u001b[39m\u001b[38;5;124m=\u001b[39m\u001b[38;5;124m\"\u001b[39m \u001b[38;5;241m*\u001b[39m \u001b[38;5;241m75\u001b[39m\n\u001b[1;32m--> 635\u001b[0m \u001b[38;5;28;01mraise\u001b[39;00m \u001b[38;5;167;01mLookupError\u001b[39;00m(\u001b[38;5;124mf\u001b[39m\u001b[38;5;124m\"\u001b[39m\u001b[38;5;130;01m\\n\u001b[39;00m\u001b[38;5;130;01m\\n\u001b[39;00m\u001b[38;5;132;01m{\u001b[39;00mdiv\u001b[38;5;132;01m}\u001b[39;00m\u001b[38;5;130;01m\\n\u001b[39;00m\u001b[38;5;132;01m{\u001b[39;00mmsg\u001b[38;5;132;01m}\u001b[39;00m\u001b[38;5;130;01m\\n\u001b[39;00m\u001b[38;5;132;01m{\u001b[39;00mdiv\u001b[38;5;132;01m}\u001b[39;00m\u001b[38;5;124m\"\u001b[39m)\n",
      "\u001b[1;31mLookupError\u001b[0m: \n\n===========================================================================\nNLTK was unable to find the java file!\nUse software specific configuration parameters or set the JAVAHOME environment variable.\n==========================================================================="
     ]
    }
   ],
   "source": [
    "from nltk.tag import StanfordPOSTagger\n",
    "st = StanfordPOSTagger(_path_to_model, path_to_jar=_path_to_jar)\n",
    "st.tag('What is the airspeed of an unladen swallow ?'.split())"
   ]
  },
  {
   "cell_type": "code",
   "execution_count": 46,
   "id": "73767c11",
   "metadata": {},
   "outputs": [
    {
     "name": "stdout",
     "output_type": "stream",
     "text": [
      "[('What', 'WP'), (\"'s\", 'VBZ'), ('the', 'DT'), ('airspeed', 'NN'), ('of', 'IN'), ('an', 'DT'), ('unladen', 'NN'), ('swallow', 'VB'), ('?', '.')]\n"
     ]
    }
   ],
   "source": [
    "import os\n",
    "java_path = \"C:/Program Files (x86)/Java/jre1.8.0_333/bin/java.exe\"\n",
    "os.environ['JAVAHOME'] = java_path\n",
    "\n",
    "#os.environ[\"STANFORDTOOLSDIR\"] = \"$HOME\"\n",
    "#os.environ[\"CLASSPATH\"] = \"$STANFORDTOOLSDIR/stanford-postagger-full-2020-11-17/stanford-postagger.jar\"\n",
    "#os.environ[\"STANFORD_MODELS\"] = \"$STANFORDTOOLSDIR/stanford-postagger-2020-11-17/models\"\n",
    "\n",
    "#import urllib.request\n",
    "#import zipfile\n",
    "#urllib.request.urlretrieve(r'http://nlp.stanford.edu/software/stanford-tagger-4.2.0.zip', r'C:/Users/jared/Downloads/stanford-tagger.zip')\n",
    "#zfile = zipfile.ZipFile(r'C:/Users/jared/Downloads/stanford-tagger.zip')\n",
    "#zfile.extractall(r'C:/Users/jared/Downloads/')\n",
    "\n",
    "from nltk.tag.stanford import StanfordPOSTagger\n",
    "# Trying on an older version\n",
    "_model_filename = r'C:/Users/jared/Downloads/stanford-postagger-full-2020-11-17/models/english-bidirectional-distsim.tagger'\n",
    "_path_to_jar = r'C:/Users/jared/Downloads/stanford-postagger-full-2020-11-17/stanford-postagger.jar'\n",
    "st = StanfordPOSTagger(model_filename=_model_filename, path_to_jar=_path_to_jar)\n",
    "text = st.tag(nltk.word_tokenize(\"What's the airspeed of an unladen swallow ?\"))\n",
    "print(text)"
   ]
  }
 ],
 "metadata": {
  "kernelspec": {
   "display_name": "Python 3 (ipykernel)",
   "language": "python",
   "name": "python3"
  },
  "language_info": {
   "codemirror_mode": {
    "name": "ipython",
    "version": 3
   },
   "file_extension": ".py",
   "mimetype": "text/x-python",
   "name": "python",
   "nbconvert_exporter": "python",
   "pygments_lexer": "ipython3",
   "version": "3.10.5"
  }
 },
 "nbformat": 4,
 "nbformat_minor": 5
}
